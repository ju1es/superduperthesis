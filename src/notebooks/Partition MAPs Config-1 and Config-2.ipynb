{
 "cells": [
  {
   "cell_type": "markdown",
   "metadata": {},
   "source": [
    "## Config-1 Spec:\n",
    "- 4 disjoint train/test splits.\n",
    "- Training and Test data have NO overlapping pieces.\n",
    "- For each split: 80% training 20% testing. (216 pieces and 54 pieces)\n",
    "- Each training split has 26 tracks for validation set.\n",
    "\n"
   ]
  },
  {
   "cell_type": "markdown",
   "metadata": {},
   "source": [
    "## Config-2 Spec:\n",
    "- Only MUS pieces.\n",
    "- Test data from ‘ENSTDkAm’ and ‘ENSTDkCl’\n",
    "- Train from everything else\n",
    "\n"
   ]
  },
  {
   "cell_type": "markdown",
   "metadata": {},
   "source": [
    "## Imports"
   ]
  },
  {
   "cell_type": "code",
   "execution_count": 8,
   "metadata": {},
   "outputs": [],
   "source": [
    "import os\n",
    "import shutil\n",
    "import numpy as np"
   ]
  },
  {
   "cell_type": "markdown",
   "metadata": {},
   "source": [
    "## Constants"
   ]
  },
  {
   "cell_type": "code",
   "execution_count": 2,
   "metadata": {},
   "outputs": [],
   "source": [
    "MAPS_DIR = '../datasets/maps/'\n",
    "MAPS_CONFIG_1_DIR = '../datasets/maps_config1/'\n",
    "MAPS_CONFIG_2_DIR = '../datasets/maps_config2/'\n",
    "\n",
    "CONFIG_1_FOLD_1 = os.path.join(MAPS_CONFIG_1_DIR, 'fold_1')\n",
    "CONFIG_1_FOLD_1_TRAIN = os.path.join(CONFIG_1_FOLD_1, 'train')\n",
    "CONFIG_1_FOLD_1_TEST = os.path.join(CONFIG_1_FOLD_1, 'test')\n",
    "CONFIG_1_FOLD_2 = os.path.join(MAPS_CONFIG_1_DIR, 'fold_2')\n",
    "CONFIG_1_FOLD_2_TRAIN = os.path.join(CONFIG_1_FOLD_2, 'train')\n",
    "CONFIG_1_FOLD_2_TEST = os.path.join(CONFIG_1_FOLD_2, 'test')\n",
    "CONFIG_1_FOLD_3 = os.path.join(MAPS_CONFIG_1_DIR, 'fold_3')\n",
    "CONFIG_1_FOLD_3_TRAIN = os.path.join(CONFIG_1_FOLD_3, 'train')\n",
    "CONFIG_1_FOLD_3_TEST = os.path.join(CONFIG_1_FOLD_3, 'test')\n",
    "CONFIG_1_FOLD_4 = os.path.join(MAPS_CONFIG_1_DIR, 'fold_4')\n",
    "CONFIG_1_FOLD_4_TRAIN = os.path.join(CONFIG_1_FOLD_4, 'train')\n",
    "CONFIG_1_FOLD_4_TEST = os.path.join(CONFIG_1_FOLD_4, 'test')\n",
    "\n",
    "CONFIG_2_TRAIN_DIR = os.path.join(MAPS_CONFIG_2_DIR, 'train')\n",
    "CONFIG_2_TEST_DIR = os.path.join(MAPS_CONFIG_2_DIR, 'test')"
   ]
  },
  {
   "cell_type": "markdown",
   "metadata": {},
   "source": [
    "#### Make Dirs:"
   ]
  },
  {
   "cell_type": "code",
   "execution_count": 3,
   "metadata": {},
   "outputs": [],
   "source": [
    "if not os.path.exists(MAPS_CONFIG_1_DIR):\n",
    "    os.mkdir(MAPS_CONFIG_1_DIR)\n",
    "if not os.path.exists(MAPS_CONFIG_2_DIR):\n",
    "    os.mkdir(MAPS_CONFIG_2_DIR)\n",
    "    \n",
    "if not os.path.exists(CONFIG_1_FOLD_1):\n",
    "    os.mkdir(CONFIG_1_FOLD_1)\n",
    "if not os.path.exists(CONFIG_1_FOLD_1_TRAIN):\n",
    "    os.mkdir(CONFIG_1_FOLD_1_TRAIN)\n",
    "if not os.path.exists(CONFIG_1_FOLD_1_TEST):\n",
    "    os.mkdir(CONFIG_1_FOLD_1_TEST)\n",
    "if not os.path.exists(CONFIG_1_FOLD_2):\n",
    "    os.mkdir(CONFIG_1_FOLD_2)\n",
    "if not os.path.exists(CONFIG_1_FOLD_2_TRAIN):\n",
    "    os.mkdir(CONFIG_1_FOLD_2_TRAIN)\n",
    "if not os.path.exists(CONFIG_1_FOLD_2_TEST):\n",
    "    os.mkdir(CONFIG_1_FOLD_2_TEST) \n",
    "if not os.path.exists(CONFIG_1_FOLD_3):\n",
    "    os.mkdir(CONFIG_1_FOLD_3)\n",
    "if not os.path.exists(CONFIG_1_FOLD_3_TRAIN):\n",
    "    os.mkdir(CONFIG_1_FOLD_3_TRAIN)\n",
    "if not os.path.exists(CONFIG_1_FOLD_3_TEST):\n",
    "    os.mkdir(CONFIG_1_FOLD_3_TEST) \n",
    "if not os.path.exists(CONFIG_1_FOLD_4):\n",
    "    os.mkdir(CONFIG_1_FOLD_4)\n",
    "if not os.path.exists(CONFIG_1_FOLD_4_TRAIN):\n",
    "    os.mkdir(CONFIG_1_FOLD_4_TRAIN)\n",
    "if not os.path.exists(CONFIG_1_FOLD_4_TEST):\n",
    "    os.mkdir(CONFIG_1_FOLD_4_TEST) \n",
    "\n",
    "if not os.path.exists(CONFIG_2_TRAIN_DIR):\n",
    "    os.mkdir(CONFIG_2_TRAIN_DIR)\n",
    "if not os.path.exists(CONFIG_2_TEST_DIR):\n",
    "    os.mkdir(CONFIG_2_TEST_DIR)\n"
   ]
  },
  {
   "cell_type": "markdown",
   "metadata": {},
   "source": [
    "## Find Unique Pieces"
   ]
  },
  {
   "cell_type": "code",
   "execution_count": 4,
   "metadata": {},
   "outputs": [],
   "source": [
    "def is_mus(file_name):\n",
    "    stripped_name = file_name.partition('_')[2].partition('_')[0].partition('-')[0]\n",
    "    if stripped_name == 'MUS':\n",
    "        return True\n",
    "    return False"
   ]
  },
  {
   "cell_type": "code",
   "execution_count": 5,
   "metadata": {},
   "outputs": [],
   "source": [
    "unique_pieces = {}\n",
    "mus_pieces = {}\n",
    "total_size = 0\n",
    "for subdir_name in os.listdir(MAPS_DIR):\n",
    "    subdir_path = os.path.join(MAPS_DIR, subdir_name)\n",
    "    if not os.path.isdir(subdir_path):\n",
    "        continue\n",
    "    for dir_parent, dir_name, file_names in os.walk(subdir_path):\n",
    "        for name in file_names:\n",
    "            if name.endswith('.wav'):\n",
    "                track_name = name.split('.wav')[0]\n",
    "                if is_mus(track_name):\n",
    "                    mus_pieces[track_name] = True\n",
    "                    unique_piece = track_name.partition('-')[2].rpartition('_')[0]\n",
    "                    unique_pieces[unique_piece] = True\n",
    "                    size = os.path.getsize(os.path.join(dir_parent, name))\n",
    "                    total_size += size"
   ]
  },
  {
   "cell_type": "code",
   "execution_count": 6,
   "metadata": {},
   "outputs": [
    {
     "name": "stdout",
     "output_type": "stream",
     "text": [
      "MB:11496\n",
      "GB:11\n"
     ]
    }
   ],
   "source": [
    "mbytes = total_size / 1000000\n",
    "gbytes = mbytes / 1000\n",
    "print \"MB:\" + str(mbytes)\n",
    "print \"GB:\" + str(gbytes)"
   ]
  },
  {
   "cell_type": "code",
   "execution_count": 7,
   "metadata": {},
   "outputs": [
    {
     "data": {
      "text/plain": [
       "270"
      ]
     },
     "execution_count": 7,
     "metadata": {},
     "output_type": "execute_result"
    }
   ],
   "source": [
    "len(mus_pieces.keys())"
   ]
  },
  {
   "cell_type": "code",
   "execution_count": 8,
   "metadata": {},
   "outputs": [
    {
     "data": {
      "text/plain": [
       "160"
      ]
     },
     "execution_count": 8,
     "metadata": {},
     "output_type": "execute_result"
    }
   ],
   "source": [
    "len(unique_pieces.keys())"
   ]
  },
  {
   "cell_type": "markdown",
   "metadata": {},
   "source": [
    "## Partition Config-1"
   ]
  },
  {
   "cell_type": "markdown",
   "metadata": {},
   "source": [
    "- Get all unique pieces. \n",
    "- Separate into 4 disjoint sets.\n",
    "- Bin files into respective fold train test folders.\n",
    "- Within each set, 80% train 20% test\n",
    "- Check size of each set.\n",
    "- Check size of each train and test in each set."
   ]
  },
  {
   "cell_type": "code",
   "execution_count": 9,
   "metadata": {},
   "outputs": [],
   "source": [
    "unique_pieces = list(unique_pieces.keys())\n",
    "np.random.shuffle(unique_pieces)\n",
    "l = np.array_split(unique_pieces, 4)\n",
    "fold_1, fold_2, fold_3, fold_4 = l[0], l[1], l[2], l[3]\n",
    "fold_1_wavs, fold_2_wavs, fold_3_wavs, fold_4_wavs = [], [], [], [] "
   ]
  },
  {
   "cell_type": "markdown",
   "metadata": {},
   "source": [
    "#### Bin .wav paths into folds:"
   ]
  },
  {
   "cell_type": "code",
   "execution_count": 10,
   "metadata": {},
   "outputs": [],
   "source": [
    "for subdir_name in os.listdir(MAPS_DIR):\n",
    "    subdir_path = os.path.join(MAPS_DIR, subdir_name)\n",
    "    if not os.path.isdir(subdir_path):\n",
    "        continue\n",
    "    for dir_parent, dir_name, file_names in os.walk(subdir_path):\n",
    "        for name in file_names:\n",
    "            if name.endswith('.wav'):\n",
    "                track_name = name.split('.wav')[0]\n",
    "                if is_mus(track_name):\n",
    "                    wav = os.path.join(dir_parent, name)\n",
    "                    mid = os.path.join(dir_parent, track_name + '.mid')\n",
    "                    unique_piece = track_name.partition('-')[2].rpartition('_')[0]\n",
    "                    if unique_piece in fold_1:\n",
    "                        fold_1_wavs.append(name)\n",
    "                    elif unique_piece in fold_2:\n",
    "                        fold_2_wavs.append(name)\n",
    "                    elif unique_piece in fold_3:\n",
    "                        fold_3_wavs.append(name)\n",
    "                    elif unique_piece in fold_4:\n",
    "                        fold_4_wavs.append(name)"
   ]
  },
  {
   "cell_type": "code",
   "execution_count": 11,
   "metadata": {},
   "outputs": [
    {
     "name": "stdout",
     "output_type": "stream",
     "text": [
      "65\n",
      "64\n",
      "72\n",
      "69\n"
     ]
    }
   ],
   "source": [
    "print len(fold_1_wavs)\n",
    "print len(fold_2_wavs)\n",
    "print len(fold_3_wavs)\n",
    "print len(fold_4_wavs)"
   ]
  },
  {
   "cell_type": "code",
   "execution_count": 12,
   "metadata": {},
   "outputs": [],
   "source": [
    "train_index = int(.8 * len(fold_1))\n",
    "fold_1_train = fold_1[:train_index]\n",
    "fold_1_test = fold_1[train_index:]\n",
    "fold_2_train = fold_2[:train_index]\n",
    "fold_2_test = fold_2[train_index:]\n",
    "fold_3_train = fold_3[:train_index]\n",
    "fold_3_test = fold_3[train_index:]\n",
    "fold_4_train = fold_4[:train_index]\n",
    "fold_4_test = fold_4[train_index:]"
   ]
  },
  {
   "cell_type": "markdown",
   "metadata": {},
   "source": [
    "#### Copy .wav into respective fold train/test:"
   ]
  },
  {
   "cell_type": "code",
   "execution_count": null,
   "metadata": {},
   "outputs": [],
   "source": [
    "for subdir_name in os.listdir(MAPS_DIR):\n",
    "    subdir_path = os.path.join(MAPS_DIR, subdir_name)\n",
    "    if not os.path.isdir(subdir_path):\n",
    "        continue\n",
    "    for dir_parent, dir_name, file_names in os.walk(subdir_path):\n",
    "        for name in file_names:\n",
    "            if name.endswith('.wav'):\n",
    "                track_name = name.split('.wav')[0]\n",
    "                if is_mus(track_name):\n",
    "                    wav = os.path.join(dir_parent, name)\n",
    "                    mid = os.path.join(dir_parent, track_name + '.mid')\n",
    "                    unique_piece = track_name.partition('-')[2].rpartition('_')[0]\n",
    "                    if unique_piece in fold_1_train:\n",
    "                        shutil.copy2(wav, CONFIG_1_FOLD_1_TRAIN)\n",
    "                        shutil.copy2(mid, CONFIG_1_FOLD_1_TRAIN)\n",
    "                    elif unique_piece in fold_1_test:\n",
    "                        shutil.copy2(wav, CONFIG_1_FOLD_1_TEST)\n",
    "                        shutil.copy2(mid, CONFIG_1_FOLD_1_TEST)\n",
    "                    elif unique_piece in fold_2_train:\n",
    "                        shutil.copy2(wav, CONFIG_1_FOLD_2_TRAIN)\n",
    "                        shutil.copy2(mid, CONFIG_1_FOLD_2_TRAIN)\n",
    "                    elif unique_piece in fold_2_test:\n",
    "                        shutil.copy2(wav, CONFIG_1_FOLD_2_TEST)\n",
    "                        shutil.copy2(mid, CONFIG_1_FOLD_2_TEST)\n",
    "                    elif unique_piece in fold_3_train:\n",
    "                        shutil.copy2(wav, CONFIG_1_FOLD_3_TRAIN)\n",
    "                        shutil.copy2(mid, CONFIG_1_FOLD_3_TRAIN)\n",
    "                    elif unique_piece in fold_3_test:\n",
    "                        shutil.copy2(wav, CONFIG_1_FOLD_3_TEST)\n",
    "                        shutil.copy2(mid, CONFIG_1_FOLD_3_TEST)\n",
    "                    elif unique_piece in fold_4_train:\n",
    "                        shutil.copy2(wav, CONFIG_1_FOLD_4_TRAIN)\n",
    "                        shutil.copy2(mid, CONFIG_1_FOLD_4_TRAIN)\n",
    "                    elif unique_piece in fold_4_test:\n",
    "                        shutil.copy2(wav, CONFIG_1_FOLD_4_TEST)\n",
    "                        shutil.copy2(mid, CONFIG_1_FOLD_4_TEST)"
   ]
  },
  {
   "cell_type": "code",
   "execution_count": null,
   "metadata": {},
   "outputs": [],
   "source": []
  },
  {
   "cell_type": "markdown",
   "metadata": {},
   "source": [
    "## Partition Config-2"
   ]
  },
  {
   "cell_type": "code",
   "execution_count": null,
   "metadata": {},
   "outputs": [],
   "source": [
    "accoustic_folders = ['ENSTDkAm', 'ENSTDkCl']\n",
    "\n",
    "for subdir_name in os.listdir(MAPS_DIR):\n",
    "    subdir_path = os.path.join(MAPS_DIR, subdir_name)\n",
    "    if not os.path.isdir(subdir_path):\n",
    "        continue\n",
    "    for dir_parent, dir_name, file_names in os.walk(subdir_path):\n",
    "        for name in file_names:\n",
    "            if name.endswith('.wav'):\n",
    "                track_name = name.split('.wav')[0]\n",
    "                \n",
    "                # Partition music pieces only.\n",
    "                if is_mus(track_name):\n",
    "                    wav = os.path.join(dir_parent, name)\n",
    "                    mid = os.path.join(dir_parent, track_name + '.mid')\n",
    "\n",
    "                    # if subdir_name is a test dir... add to config 2 test\n",
    "#                     if subdir_name in accoustic_folders:\n",
    "#                         shutil.copy2(wav, CONFIG_2_TEST_DIR)\n",
    "#                         shutil.copy2(mid, CONFIG_2_TEST_DIR)\n",
    "#                     else:\n",
    "#                         shutil.copy2(wav, CONFIG_2_TRAIN_DIR)\n",
    "#                         shutil.copy2(mid, CONFIG_2_TRAIN_DIR)\n",
    "                        "
   ]
  },
  {
   "cell_type": "code",
   "execution_count": 15,
   "metadata": {},
   "outputs": [],
   "source": [
    "# List all wavs in old_train\n",
    "OLD_TRAIN = '../datasets/maps_config2/old_train/'\n",
    "MAPS_CONFIG2 = '../datasets/maps_config2/'\n",
    "\n",
    "wavs = []\n",
    "for some_file in os.listdir(OLD_TRAIN):\n",
    "    if some_file.endswith('.wav'):\n",
    "        wavs.append(some_file)"
   ]
  },
  {
   "cell_type": "code",
   "execution_count": 16,
   "metadata": {},
   "outputs": [],
   "source": [
    "# Partition into 4 sets\n",
    "np.random.shuffle(wavs)\n",
    "partitions = np.array_split(wavs, 4)"
   ]
  },
  {
   "cell_type": "code",
   "execution_count": 17,
   "metadata": {},
   "outputs": [],
   "source": [
    "# Copy respective files into their own fold folders\n",
    "def copy_wavs_to_folder(wavs, folder_name):\n",
    "    for wav in wavs:\n",
    "        source_wav = os.path.join(OLD_TRAIN, wav)\n",
    "        dest = os.path.join(MAPS_CONFIG2, folder_name)\n",
    "        mid = wav.split('.wav')[0]\n",
    "        mid = mid + '.mid'\n",
    "        source_mid = os.path.join(OLD_TRAIN, mid)\n",
    "        \n",
    "        shutil.copy2(source_wav, dest)\n",
    "        shutil.copy2(source_mid, dest)"
   ]
  },
  {
   "cell_type": "code",
   "execution_count": 18,
   "metadata": {},
   "outputs": [],
   "source": [
    "copy_wavs_to_folder(partitions[0], 'fold_1')\n",
    "copy_wavs_to_folder(partitions[1], 'fold_2')\n",
    "copy_wavs_to_folder(partitions[2], 'fold_3')\n",
    "copy_wavs_to_folder(partitions[3], 'fold_4')"
   ]
  },
  {
   "cell_type": "code",
   "execution_count": null,
   "metadata": {},
   "outputs": [],
   "source": []
  }
 ],
 "metadata": {
  "kernelspec": {
   "display_name": "Python 2",
   "language": "python",
   "name": "python2"
  },
  "language_info": {
   "codemirror_mode": {
    "name": "ipython",
    "version": 2
   },
   "file_extension": ".py",
   "mimetype": "text/x-python",
   "name": "python",
   "nbconvert_exporter": "python",
   "pygments_lexer": "ipython2",
   "version": "2.7.5"
  }
 },
 "nbformat": 4,
 "nbformat_minor": 2
}
