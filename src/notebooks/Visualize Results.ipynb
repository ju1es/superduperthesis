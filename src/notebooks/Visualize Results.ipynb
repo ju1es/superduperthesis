{
 "cells": [
  {
   "cell_type": "markdown",
   "metadata": {},
   "source": [
    "## Imports"
   ]
  },
  {
   "cell_type": "code",
   "execution_count": 8,
   "metadata": {
    "collapsed": true
   },
   "outputs": [],
   "source": [
    "import pandas as pd\n",
    "import matplotlib.pyplot as plt"
   ]
  },
  {
   "cell_type": "markdown",
   "metadata": {},
   "source": [
    "## Load csv"
   ]
  },
  {
   "cell_type": "code",
   "execution_count": 2,
   "metadata": {
    "collapsed": true
   },
   "outputs": [],
   "source": [
    "results = pd.read_csv('./config-2_logfilt_baseline.log', sep=',')"
   ]
  },
  {
   "cell_type": "code",
   "execution_count": 3,
   "metadata": {},
   "outputs": [
    {
     "data": {
      "text/html": [
       "<div>\n",
       "<style>\n",
       "    .dataframe thead tr:only-child th {\n",
       "        text-align: right;\n",
       "    }\n",
       "\n",
       "    .dataframe thead th {\n",
       "        text-align: left;\n",
       "    }\n",
       "\n",
       "    .dataframe tbody tr th {\n",
       "        vertical-align: top;\n",
       "    }\n",
       "</style>\n",
       "<table border=\"1\" class=\"dataframe\">\n",
       "  <thead>\n",
       "    <tr style=\"text-align: right;\">\n",
       "      <th></th>\n",
       "      <th>epoch</th>\n",
       "      <th>acc</th>\n",
       "      <th>loss</th>\n",
       "      <th>mean_absolute_error</th>\n",
       "      <th>mean_squared_error</th>\n",
       "      <th>val_acc</th>\n",
       "      <th>val_loss</th>\n",
       "      <th>val_mean_absolute_error</th>\n",
       "      <th>val_mean_squared_error</th>\n",
       "    </tr>\n",
       "  </thead>\n",
       "  <tbody>\n",
       "    <tr>\n",
       "      <th>0</th>\n",
       "      <td>0</td>\n",
       "      <td>0.989964</td>\n",
       "      <td>0.029356</td>\n",
       "      <td>0.015806</td>\n",
       "      <td>0.007805</td>\n",
       "      <td>0.992681</td>\n",
       "      <td>0.020437</td>\n",
       "      <td>0.011424</td>\n",
       "      <td>0.005573</td>\n",
       "    </tr>\n",
       "    <tr>\n",
       "      <th>1</th>\n",
       "      <td>1</td>\n",
       "      <td>0.992083</td>\n",
       "      <td>0.022002</td>\n",
       "      <td>0.012257</td>\n",
       "      <td>0.006035</td>\n",
       "      <td>0.993185</td>\n",
       "      <td>0.019063</td>\n",
       "      <td>0.010189</td>\n",
       "      <td>0.005189</td>\n",
       "    </tr>\n",
       "    <tr>\n",
       "      <th>2</th>\n",
       "      <td>2</td>\n",
       "      <td>0.992776</td>\n",
       "      <td>0.019848</td>\n",
       "      <td>0.011141</td>\n",
       "      <td>0.005483</td>\n",
       "      <td>0.993405</td>\n",
       "      <td>0.018647</td>\n",
       "      <td>0.009525</td>\n",
       "      <td>0.005037</td>\n",
       "    </tr>\n",
       "    <tr>\n",
       "      <th>3</th>\n",
       "      <td>3</td>\n",
       "      <td>0.993203</td>\n",
       "      <td>0.018557</td>\n",
       "      <td>0.010460</td>\n",
       "      <td>0.005147</td>\n",
       "      <td>0.993563</td>\n",
       "      <td>0.018096</td>\n",
       "      <td>0.009430</td>\n",
       "      <td>0.004910</td>\n",
       "    </tr>\n",
       "    <tr>\n",
       "      <th>4</th>\n",
       "      <td>4</td>\n",
       "      <td>0.993492</td>\n",
       "      <td>0.017680</td>\n",
       "      <td>0.009994</td>\n",
       "      <td>0.004920</td>\n",
       "      <td>0.993624</td>\n",
       "      <td>0.017913</td>\n",
       "      <td>0.009144</td>\n",
       "      <td>0.004856</td>\n",
       "    </tr>\n",
       "  </tbody>\n",
       "</table>\n",
       "</div>"
      ],
      "text/plain": [
       "   epoch       acc      loss  mean_absolute_error  mean_squared_error  \\\n",
       "0      0  0.989964  0.029356             0.015806            0.007805   \n",
       "1      1  0.992083  0.022002             0.012257            0.006035   \n",
       "2      2  0.992776  0.019848             0.011141            0.005483   \n",
       "3      3  0.993203  0.018557             0.010460            0.005147   \n",
       "4      4  0.993492  0.017680             0.009994            0.004920   \n",
       "\n",
       "    val_acc  val_loss  val_mean_absolute_error  val_mean_squared_error  \n",
       "0  0.992681  0.020437                 0.011424                0.005573  \n",
       "1  0.993185  0.019063                 0.010189                0.005189  \n",
       "2  0.993405  0.018647                 0.009525                0.005037  \n",
       "3  0.993563  0.018096                 0.009430                0.004910  \n",
       "4  0.993624  0.017913                 0.009144                0.004856  "
      ]
     },
     "execution_count": 3,
     "metadata": {},
     "output_type": "execute_result"
    }
   ],
   "source": [
    "results"
   ]
  },
  {
   "cell_type": "code",
   "execution_count": 6,
   "metadata": {},
   "outputs": [],
   "source": [
    "loss = results['loss']\n",
    "val_loss = results['val_loss']"
   ]
  },
  {
   "cell_type": "markdown",
   "metadata": {},
   "source": [
    "## Plot"
   ]
  },
  {
   "cell_type": "code",
   "execution_count": 11,
   "metadata": {},
   "outputs": [
    {
     "data": {
      "image/png": "[encoded data removed]",
      "text/plain": [
       "<Figure size 432x288 with 1 Axes>"
      ]
     },
     "metadata": {},
     "output_type": "display_data"
    }
   ],
   "source": [
    "plt.plot(loss)\n",
    "plt.plot(val_loss)\n",
    "plt.ylabel('loss')\n",
    "plt.xlabel('epoch')\n",
    "plt.legend(['train_loss', 'val_loss'])\n",
    "plt.title('Baseline Loss')\n",
    "plt.savefig('./baseline_test_valloss.png')\n",
    "plt.show()"
   ]
  },
  {
   "cell_type": "code",
   "execution_count": null,
   "metadata": {
    "collapsed": true
   },
   "outputs": [],
   "source": []
  }
 ],
 "metadata": {
  "kernelspec": {
   "display_name": "Python 2",
   "language": "python",
   "name": "python2"
  },
  "language_info": {
   "codemirror_mode": {
    "name": "ipython",
    "version": 2
   },
   "file_extension": ".py",
   "mimetype": "text/x-python",
   "name": "python",
   "nbconvert_exporter": "python",
   "pygments_lexer": "ipython2",
   "version": "2.7.15"
  }
 },
 "nbformat": 4,
 "nbformat_minor": 2
}
