{
 "cells": [
  {
   "cell_type": "markdown",
   "metadata": {},
   "source": [
    "## Imports"
   ]
  },
  {
   "cell_type": "code",
   "execution_count": 1,
   "metadata": {},
   "outputs": [
    {
     "name": "stderr",
     "output_type": "stream",
     "text": [
      "/anaconda2/lib/python2.7/site-packages/h5py/__init__.py:34: FutureWarning: Conversion of the second argument of issubdtype from `float` to `np.floating` is deprecated. In future, it will be treated as `np.float64 == np.dtype(float).type`.\n",
      "  from ._conv import register_converters as _register_converters\n",
      "Using TensorFlow backend.\n"
     ]
    }
   ],
   "source": [
    "from keras.models import Model\n",
    "from keras.layers import Input, Dense, Input, Conv2D, Flatten\n",
    "from keras.layers import GaussianDropout, GaussianNoise, Reshape"
   ]
  },
  {
   "cell_type": "markdown",
   "metadata": {},
   "source": [
    "## Constants"
   ]
  },
  {
   "cell_type": "markdown",
   "metadata": {},
   "source": [
    "## Compile Model"
   ]
  },
  {
   "cell_type": "code",
   "execution_count": 4,
   "metadata": {},
   "outputs": [],
   "source": [
    "inputs = Input(shape=(11, 144))\n",
    "reshape = Reshape((11, 144, 1))(inputs)\n",
    "c1 = Conv2D(30, (3, 3), activation='elu')(reshape)\n",
    "gd1 = GaussianDropout(0.1)(c1)\n",
    "gn1 = GaussianNoise(0.1)(gd1)\n",
    "\n",
    "c2 = Conv2D(30, (1, 35), activation='elu')(gn1)\n",
    "gd2 = GaussianDropout(0.1)(c2)\n",
    "gn2 = GaussianNoise(0.1)(gd2)\n",
    "\n",
    "c3 = Conv2D(30, (7, 1), activation='elu')(gn2)\n",
    "gd3 = GaussianDropout(0.1)(c3)\n",
    "gn3 = GaussianNoise(0.1)(gd3)\n",
    "\n",
    "# y-on\n",
    "c4 = Conv2D(10, (3, 3), activation='elu')(gn3)\n",
    "gd4 = GaussianDropout(0.5)(c4)\n",
    "gn4 = GaussianNoise(0.1)(gd4)\n",
    "f1 = Flatten()(gn4)\n",
    "yOn = Dense(88, input_dim=1060,  activation='sigmoid')(f1)\n",
    "\n",
    "# y-frm\n",
    "c5 = Conv2D(10, (3, 3), activation='elu')(gn3)\n",
    "gd5 = GaussianDropout(0.5)(c5)\n",
    "gn5 = GaussianNoise(0.1)(gd5)\n",
    "f2 = Flatten()(gn5)\n",
    "yFrm = Dense(88, input_dim=1060,  activation='sigmoid')(f2)\n",
    "\n",
    "# y-off\n",
    "c6 = Conv2D(10, (3, 3), activation='elu')(gn3)\n",
    "gd6 = GaussianDropout(0.5)(c6)\n",
    "gn6 = GaussianNoise(0.1)(gd6)\n",
    "f3 = Flatten()(gn6)\n",
    "yOff = Dense(88, input_dim=1060,  activation='sigmoid')(f3)\n",
    "\n",
    "adsr_conv = Model(inputs=inputs, outputs=[yOn, yFrm, yOff])"
   ]
  },
  {
   "cell_type": "code",
   "execution_count": 5,
   "metadata": {},
   "outputs": [
    {
     "name": "stdout",
     "output_type": "stream",
     "text": [
      "__________________________________________________________________________________________________\n",
      "Layer (type)                    Output Shape         Param #     Connected to                     \n",
      "==================================================================================================\n",
      "input_3 (InputLayer)            (None, 11, 144)      0                                            \n",
      "__________________________________________________________________________________________________\n",
      "reshape_3 (Reshape)             (None, 11, 144, 1)   0           input_3[0][0]                    \n",
      "__________________________________________________________________________________________________\n",
      "conv2d_10 (Conv2D)              (None, 9, 142, 30)   300         reshape_3[0][0]                  \n",
      "__________________________________________________________________________________________________\n",
      "gaussian_dropout_9 (GaussianDro (None, 9, 142, 30)   0           conv2d_10[0][0]                  \n",
      "__________________________________________________________________________________________________\n",
      "gaussian_noise_9 (GaussianNoise (None, 9, 142, 30)   0           gaussian_dropout_9[0][0]         \n",
      "__________________________________________________________________________________________________\n",
      "conv2d_11 (Conv2D)              (None, 9, 108, 30)   31530       gaussian_noise_9[0][0]           \n",
      "__________________________________________________________________________________________________\n",
      "gaussian_dropout_10 (GaussianDr (None, 9, 108, 30)   0           conv2d_11[0][0]                  \n",
      "__________________________________________________________________________________________________\n",
      "gaussian_noise_10 (GaussianNois (None, 9, 108, 30)   0           gaussian_dropout_10[0][0]        \n",
      "__________________________________________________________________________________________________\n",
      "conv2d_12 (Conv2D)              (None, 3, 108, 30)   6330        gaussian_noise_10[0][0]          \n",
      "__________________________________________________________________________________________________\n",
      "gaussian_dropout_11 (GaussianDr (None, 3, 108, 30)   0           conv2d_12[0][0]                  \n",
      "__________________________________________________________________________________________________\n",
      "gaussian_noise_11 (GaussianNois (None, 3, 108, 30)   0           gaussian_dropout_11[0][0]        \n",
      "__________________________________________________________________________________________________\n",
      "conv2d_13 (Conv2D)              (None, 1, 106, 10)   2710        gaussian_noise_11[0][0]          \n",
      "__________________________________________________________________________________________________\n",
      "conv2d_14 (Conv2D)              (None, 1, 106, 10)   2710        gaussian_noise_11[0][0]          \n",
      "__________________________________________________________________________________________________\n",
      "conv2d_15 (Conv2D)              (None, 1, 106, 10)   2710        gaussian_noise_11[0][0]          \n",
      "__________________________________________________________________________________________________\n",
      "gaussian_dropout_12 (GaussianDr (None, 1, 106, 10)   0           conv2d_13[0][0]                  \n",
      "__________________________________________________________________________________________________\n",
      "gaussian_dropout_13 (GaussianDr (None, 1, 106, 10)   0           conv2d_14[0][0]                  \n",
      "__________________________________________________________________________________________________\n",
      "gaussian_dropout_14 (GaussianDr (None, 1, 106, 10)   0           conv2d_15[0][0]                  \n",
      "__________________________________________________________________________________________________\n",
      "gaussian_noise_12 (GaussianNois (None, 1, 106, 10)   0           gaussian_dropout_12[0][0]        \n",
      "__________________________________________________________________________________________________\n",
      "gaussian_noise_13 (GaussianNois (None, 1, 106, 10)   0           gaussian_dropout_13[0][0]        \n",
      "__________________________________________________________________________________________________\n",
      "gaussian_noise_14 (GaussianNois (None, 1, 106, 10)   0           gaussian_dropout_14[0][0]        \n",
      "__________________________________________________________________________________________________\n",
      "flatten_4 (Flatten)             (None, 1060)         0           gaussian_noise_12[0][0]          \n",
      "__________________________________________________________________________________________________\n",
      "flatten_5 (Flatten)             (None, 1060)         0           gaussian_noise_13[0][0]          \n",
      "__________________________________________________________________________________________________\n",
      "flatten_6 (Flatten)             (None, 1060)         0           gaussian_noise_14[0][0]          \n",
      "__________________________________________________________________________________________________\n",
      "dense_4 (Dense)                 (None, 88)           93368       flatten_4[0][0]                  \n",
      "__________________________________________________________________________________________________\n",
      "dense_5 (Dense)                 (None, 88)           93368       flatten_5[0][0]                  \n",
      "__________________________________________________________________________________________________\n",
      "dense_6 (Dense)                 (None, 88)           93368       flatten_6[0][0]                  \n",
      "==================================================================================================\n",
      "Total params: 326,394\n",
      "Trainable params: 326,394\n",
      "Non-trainable params: 0\n",
      "__________________________________________________________________________________________________\n"
     ]
    }
   ],
   "source": [
    "adsr_conv.summary()"
   ]
  },
  {
   "cell_type": "code",
   "execution_count": null,
   "metadata": {
    "collapsed": true
   },
   "outputs": [],
   "source": []
  }
 ],
 "metadata": {
  "kernelspec": {
   "display_name": "Python 2",
   "language": "python",
   "name": "python2"
  },
  "language_info": {
   "codemirror_mode": {
    "name": "ipython",
    "version": 2
   },
   "file_extension": ".py",
   "mimetype": "text/x-python",
   "name": "python",
   "nbconvert_exporter": "python",
   "pygments_lexer": "ipython2",
   "version": "2.7.15"
  }
 },
 "nbformat": 4,
 "nbformat_minor": 2
}
