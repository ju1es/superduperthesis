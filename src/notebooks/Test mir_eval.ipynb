{
 "cells": [
  {
   "cell_type": "markdown",
   "metadata": {},
   "source": [
    "https://craffel.github.io/mir_eval/#module-mir_eval.transcription"
   ]
  },
  {
   "cell_type": "markdown",
   "metadata": {},
   "source": [
    "## Imports"
   ]
  },
  {
   "cell_type": "code",
   "execution_count": 8,
   "metadata": {},
   "outputs": [],
   "source": [
    "import os\n",
    "import numpy as np\n",
    "from tensorflow.keras.models import model_from_json\n",
    "from tensorflow.keras.optimizers import SGD\n",
    "from mir_eval.transcription import precision_recall_f1_overlap as eval "
   ]
  },
  {
   "cell_type": "markdown",
   "metadata": {},
   "source": [
    "## Constants"
   ]
  },
  {
   "cell_type": "code",
   "execution_count": 9,
   "metadata": {
    "collapsed": true
   },
   "outputs": [],
   "source": [
    "BASELINE_TEST_DIR = '../results/baseline_test/'\n",
    "BASELINE_ARCH = os.path.join(BASELINE_TEST_DIR, 'baseline_test.json')\n",
    "BASELINE_WEIGHTS = os.path.join(BASELINE_TEST_DIR, 'baseline_test.h5')\n",
    "DATASET_DIR = '../splits/config-2_logfilt_baseline/'\n",
    "TEST_SET_DIR = os.path.join(DATASET_DIR, 'test')"
   ]
  },
  {
   "cell_type": "markdown",
   "metadata": {
    "collapsed": true
   },
   "source": [
    "## Load model"
   ]
  },
  {
   "cell_type": "code",
   "execution_count": 10,
   "metadata": {
    "collapsed": true
   },
   "outputs": [],
   "source": [
    "# Load architecture\n",
    "json_file = open(BASELINE_ARCH)\n",
    "loaded_baseline_json = json_file.read()\n",
    "json_file.close()\n",
    "\n",
    "# Load weights\n",
    "baseline = model_from_json(loaded_baseline_json)\n",
    "baseline.load_weights(BASELINE_WEIGHTS)\n",
    "baseline.compile(\n",
    "    loss='binary_crossentropy',\n",
    "    optimizer=SGD(lr=0.1, momentum=0.9),\n",
    "    metrics=['accuracy', 'mse', 'mae'])"
   ]
  },
  {
   "cell_type": "markdown",
   "metadata": {},
   "source": [
    "## Load datapoints "
   ]
  },
  {
   "cell_type": "code",
   "execution_count": 11,
   "metadata": {
    "collapsed": true
   },
   "outputs": [],
   "source": [
    "def read_mm(data_dir, type, ID):\n",
    "    NOTE_RANGE = 88\n",
    "    WINDOW_SIZE = 5\n",
    "    N_BINS = 229\n",
    "\n",
    "    input_path = os.path.join(data_dir, type, ID)\n",
    "    output_path = os.path.join(data_dir, 'expect', ID)\n",
    "\n",
    "    mm_input = np.memmap(input_path, mode='r')\n",
    "    mm_output = np.memmap(output_path, mode='r')\n",
    "    input = np.reshape(mm_input, (-1, WINDOW_SIZE, N_BINS))\n",
    "    output = np.reshape(mm_output, (-1, NOTE_RANGE))\n",
    "\n",
    "    return input, output"
   ]
  },
  {
   "cell_type": "code",
   "execution_count": 12,
   "metadata": {
    "collapsed": true
   },
   "outputs": [],
   "source": [
    "test_datapoints = os.listdir(TEST_SET_DIR)"
   ]
  },
  {
   "cell_type": "code",
   "execution_count": 13,
   "metadata": {},
   "outputs": [],
   "source": [
    "X, y = [], []\n",
    "for track_name in test_datapoints:\n",
    "    input, output = read_mm(DATASET_DIR, 'test', track_name)\n",
    "    \n",
    "    X.append(input)\n",
    "    y.append(output)\n",
    "\n",
    "X = np.concatenate(X)\n",
    "y = np.concatenate(y)\n"
   ]
  },
  {
   "cell_type": "code",
   "execution_count": 15,
   "metadata": {},
   "outputs": [
    {
     "name": "stdout",
     "output_type": "stream",
     "text": [
      "(38901, 5, 229)\n",
      "(38901, 88)\n"
     ]
    }
   ],
   "source": [
    "print X.shape\n",
    "print y.shape"
   ]
  },
  {
   "cell_type": "code",
   "execution_count": 16,
   "metadata": {
    "collapsed": true
   },
   "outputs": [],
   "source": [
    "X = X[2000:4000]"
   ]
  },
  {
   "cell_type": "markdown",
   "metadata": {},
   "source": [
    "## Evaluate with Kelz Func"
   ]
  },
  {
   "cell_type": "code",
   "execution_count": 17,
   "metadata": {},
   "outputs": [
    {
     "name": "stdout",
     "output_type": "stream",
     "text": [
      "2000/2000 [==============================] - 30s 15ms/step\n"
     ]
    }
   ],
   "source": [
    "predictions = baseline.predict(X, verbose=1)"
   ]
  },
  {
   "cell_type": "code",
   "execution_count": 18,
   "metadata": {},
   "outputs": [
    {
     "name": "stdout",
     "output_type": "stream",
     "text": [
      "(2000, 88)\n",
      "(38901, 88)\n"
     ]
    }
   ],
   "source": [
    "print predictions.shape\n",
    "print y.shape"
   ]
  },
  {
   "cell_type": "code",
   "execution_count": 19,
   "metadata": {},
   "outputs": [],
   "source": [
    "def eval_framewise(predicts, targets, thresh=0.5):\n",
    "    \"\"\"\n",
    "     author: filip (+ data-format amendments by rainer)\n",
    "     \"\"\"\n",
    "    if predicts.shape != targets.shape:\n",
    "         raise ValueError('predictions.shape {} != targets.shape {}'.format(predictions.shape, targets.shape))\n",
    "\n",
    "    pred = predicts > thresh\n",
    "    targ = targets > thresh\n",
    "\n",
    "    tp = pred & targ\n",
    "    fp = pred ^ tp\n",
    "    fn = targ ^ tp\n",
    "\n",
    "    # tp, fp, tn, fn\n",
    "    return tp.sum(), fp.sum(), 0, fn.sum()"
   ]
  },
  {
   "cell_type": "code",
   "execution_count": 20,
   "metadata": {},
   "outputs": [
    {
     "data": {
      "text/plain": [
       "(0, 0, 0)"
      ]
     },
     "execution_count": 20,
     "metadata": {},
     "output_type": "execute_result"
    }
   ],
   "source": [
    "tp_total, fp_total, fn_total = 0, 0, 0\n",
    "for p, t in zip(predictions, y[2000:4000]):\n",
    "    tp, fp, _, fn = eval_framewise(p, t)\n",
    "    tp_total += tp\n",
    "    fp_total += fp\n",
    "    fn_total += fn\n",
    "    \n",
    "tp_total, fp_total, fn_total"
   ]
  },
  {
   "cell_type": "markdown",
   "metadata": {},
   "source": [
    "## Evaluate with mir_eval"
   ]
  },
  {
   "cell_type": "markdown",
   "metadata": {},
   "source": [
    "TO DO"
   ]
  },
  {
   "cell_type": "code",
   "execution_count": null,
   "metadata": {
    "collapsed": true
   },
   "outputs": [],
   "source": []
  }
 ],
 "metadata": {
  "kernelspec": {
   "display_name": "Python 2",
   "language": "python",
   "name": "python2"
  }
 },
 "nbformat": 4,
 "nbformat_minor": 2
}
