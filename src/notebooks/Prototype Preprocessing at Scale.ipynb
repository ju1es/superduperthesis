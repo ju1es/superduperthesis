{
 "cells": [
  {
   "cell_type": "markdown",
   "metadata": {
    "collapsed": true
   },
   "source": [
    "## Preprocessing\n",
    "Requirements:\n",
    "- Modular for: \n",
    "  - Transform type\n",
    "  - train/val/test directories\n",
    "- General template: \n",
    "  - Isolate train/val/test datapoints\n",
    "  - Transform each datapoint\n",
    "  - Save to respective directories\n",
    "\n",
    "Notes:\n",
    "- ENSTDkAm and ENSTDkCl = non-synthesized recording directories"
   ]
  },
  {
   "cell_type": "code",
   "execution_count": null,
   "metadata": {
    "collapsed": true
   },
   "outputs": [],
   "source": []
  }
 ],
 "metadata": {
  "kernelspec": {
   "display_name": "Python 2",
   "language": "python",
   "name": "python2"
  },
  "language_info": {
   "codemirror_mode": {
    "name": "ipython",
    "version": 2
   },
   "file_extension": ".py",
   "mimetype": "text/x-python",
   "name": "python",
   "nbconvert_exporter": "python",
   "pygments_lexer": "ipython2",
   "version": "2.7.14"
  }
 },
 "nbformat": 4,
 "nbformat_minor": 2
}
